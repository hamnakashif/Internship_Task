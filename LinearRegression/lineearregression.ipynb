{
 "cells": [
  {
   "cell_type": "code",
   "execution_count": 3,
   "metadata": {},
   "outputs": [
    {
     "name": "stdout",
     "output_type": "stream",
     "text": [
      "Mean Squared Error from scratch: 1753418798802.6182\n",
      "Predicted prices: [5160436.46543067 7220068.23785735 3110014.86480526 4614911.1171282\n",
      " 3297071.69576686]\n",
      "Actual prices: [4060000 6650000 3710000 6440000 2800000]\n"
     ]
    }
   ],
   "source": [
    "import numpy as np\n",
    "import pandas as pd\n",
    "from sklearn.model_selection import train_test_split\n",
    "\n",
    "\n",
    "\n",
    "# Standardize the features\n",
    "X = (X - X.mean()) / X.std()\n",
    "\n",
    "# Add a bias term (intercept) to the features\n",
    "X = np.c_[np.ones(X.shape[0]), X]\n",
    "\n",
    "# Split the data into training and testing sets\n",
    "X_train, X_test, y_train, y_test = train_test_split(X, y, test_size=0.2, random_state=42)\n",
    "\n",
    "# Convert y to numpy arrays\n",
    "y_train = y_train.values\n",
    "y_test = y_test.values\n",
    "\n",
    "# Initialize weights\n",
    "weights = np.zeros(X_train.shape[1])\n",
    "\n",
    "# Set hyperparameters\n",
    "learning_rate = 0.01\n",
    "num_iterations = 1000\n",
    "\n",
    "# Gradient descent algorithm\n",
    "for i in range(num_iterations):\n",
    "    predictions = X_train.dot(weights)\n",
    "    errors = predictions - y_train\n",
    "    gradient = X_train.T.dot(errors) / len(y_train)\n",
    "    weights = weights - learning_rate * gradient\n",
    "\n",
    "# Make predictions on the test set\n",
    "y_pred = X_test.dot(weights)\n",
    "\n",
    "# Evaluate the model\n",
    "mse = np.mean((y_test - y_pred) ** 2)\n",
    "print(f'Mean Squared Error from scratch: {mse}')\n",
    "\n",
    "# Display a few predictions\n",
    "print(\"Predicted prices:\", y_pred[:5])\n",
    "print(\"Actual prices:\", y_test[:5])\n"
   ]
  },
  {
   "cell_type": "code",
   "execution_count": null,
   "metadata": {},
   "outputs": [],
   "source": [
    "# Load dataset\n",
    "df = pd.read_csv('Housing.csv')\n",
    "\n",
    "# Check for missing values and handle them if any\n",
    "if df.isnull().values.any():\n",
    "    df = df.dropna()\n",
    "\n",
    "# Convert categorical variables to dummy variables\n",
    "df = pd.get_dummies(df, drop_first=True)\n",
    "\n",
    "# Ensure all features are numeric\n",
    "for column in df.columns:\n",
    "    if not pd.api.types.is_numeric_dtype(df[column]):\n",
    "        df[column] = pd.to_numeric(df[column], errors='coerce')\n",
    "        df = df.dropna(subset=[column])\n",
    "\n",
    "# Split the data into features and target\n",
    "X = df.drop(columns=['price'])\n",
    "y = df['price']"
   ]
  },
  {
   "cell_type": "code",
   "execution_count": null,
   "metadata": {},
   "outputs": [],
   "source": [
    "# Standardize the features\n",
    "X = (X - X.mean()) / X.std()\n",
    "\n",
    "# Add a bias term (intercept) to the features\n",
    "X = np.c_[np.ones(X.shape[0]), X]"
   ]
  }
 ],
 "metadata": {
  "kernelspec": {
   "display_name": "Python 3",
   "language": "python",
   "name": "python3"
  },
  "language_info": {
   "codemirror_mode": {
    "name": "ipython",
    "version": 3
   },
   "file_extension": ".py",
   "mimetype": "text/x-python",
   "name": "python",
   "nbconvert_exporter": "python",
   "pygments_lexer": "ipython3",
   "version": "3.12.4"
  }
 },
 "nbformat": 4,
 "nbformat_minor": 2
}
