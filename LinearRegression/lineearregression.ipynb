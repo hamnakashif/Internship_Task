{
 "cells": [
  {
   "cell_type": "code",
   "execution_count": 3,
   "metadata": {},
   "outputs": [],
   "source": [
    "import numpy as np\n",
    "import pandas as pd\n",
    "from sklearn.model_selection import train_test_split\n"
   ]
  },
  {
   "cell_type": "code",
   "execution_count": 4,
   "metadata": {},
   "outputs": [],
   "source": [
    "df = pd.read_csv('Housing.csv')\n",
    "\n",
    "# Check for missing values and handle them if any\n",
    "if df.isnull().values.any():\n",
    "    df = df.dropna() #Drops any rows with missing values.\n",
    "\n",
    "df = pd.get_dummies(df, drop_first=True)\n",
    "\n",
    "# Ensure all features are numeric\n",
    "for column in df.columns:\n",
    "    if not pd.api.types.is_numeric_dtype(df[column]):\n",
    "        df[column] = pd.to_numeric(df[column], errors='coerce')\n",
    "        df = df.dropna(subset=[column])\n",
    "\n",
    "\n",
    "X = df.drop(columns=['price'])\n",
    "y = df['price']"
   ]
  },
  {
   "cell_type": "code",
   "execution_count": 5,
   "metadata": {},
   "outputs": [],
   "source": [
    "# Scales the features to have a mean of 0 and a standard deviation of 1. \n",
    "# This ensures that all features contribute equally to the cost function and helps in faster convergence of gradient descent.\n",
    "X = (X - X.mean()) / X.std()\n",
    "\n",
    "# Adding a column of ones allows the model to include an intercept (bias) term, which adjusts the output regardless of the input values.\n",
    "X = np.c_[np.ones(X.shape[0]), X]"
   ]
  },
  {
   "cell_type": "code",
   "execution_count": 6,
   "metadata": {},
   "outputs": [],
   "source": [
    "X_train, X_test, y_train, y_test = train_test_split(X, y, test_size=0.2, random_state=42)"
   ]
  },
  {
   "cell_type": "code",
   "execution_count": 7,
   "metadata": {},
   "outputs": [],
   "source": [
    "#Convert to numpy arrays to ensure compatibility with NumPy operations.\n",
    "y_train = y_train.values\n",
    "y_test = y_test.values"
   ]
  },
  {
   "cell_type": "code",
   "execution_count": 8,
   "metadata": {},
   "outputs": [],
   "source": [
    "# Initialize weights\n",
    "weights = np.zeros(X_train.shape[1])"
   ]
  },
  {
   "cell_type": "code",
   "execution_count": 14,
   "metadata": {},
   "outputs": [],
   "source": [
    "# Set hyperparameters\n",
    "learning_rate = 0.01 #Controls the step size in the direction of the gradient\n",
    "num_iterations = 1000 #Specifies how many times the gradient descent algorithm will run to update the weights"
   ]
  },
  {
   "cell_type": "code",
   "execution_count": 15,
   "metadata": {},
   "outputs": [],
   "source": [
    "# Gradient descent algorithm. Computes the predicted values using the current weights.\n",
    "for i in range(num_iterations):\n",
    "    predictions = X_train.dot(weights)\n",
    "    errors = predictions - y_train\n",
    "    gradient = X_train.T.dot(errors) / len(y_train)\n",
    "    weights = weights - learning_rate * gradient"
   ]
  },
  {
   "cell_type": "code",
   "execution_count": 16,
   "metadata": {},
   "outputs": [],
   "source": [
    "# Predicting\n",
    "y_pred = X_test.dot(weights)"
   ]
  },
  {
   "cell_type": "code",
   "execution_count": 17,
   "metadata": {},
   "outputs": [
    {
     "name": "stdout",
     "output_type": "stream",
     "text": [
      "Mean Squared Error from scratch: 1754318687330.669\n"
     ]
    }
   ],
   "source": [
    "# # average square difference between predicted and actual values to evaluate performance\n",
    "mean_squared_error = np.mean((y_test - y_pred) ** 2)\n",
    "print(f'Mean Squared Error from scratch: {mean_squared_error}')"
   ]
  },
  {
   "cell_type": "code",
   "execution_count": 13,
   "metadata": {},
   "outputs": [
    {
     "name": "stdout",
     "output_type": "stream",
     "text": [
      "Predicted prices: [5164653.90033967 7224722.29802166 3109863.24240338 4612075.32722559\n",
      " 3294646.25725956]\n",
      "Actual prices: [4060000 6650000 3710000 6440000 2800000]\n"
     ]
    }
   ],
   "source": [
    "print(\"Predicted prices:\", y_pred[:5])\n",
    "print(\"Actual prices:\", y_test[:5])"
   ]
  }
 ],
 "metadata": {
  "kernelspec": {
   "display_name": "Python 3",
   "language": "python",
   "name": "python3"
  },
  "language_info": {
   "codemirror_mode": {
    "name": "ipython",
    "version": 3
   },
   "file_extension": ".py",
   "mimetype": "text/x-python",
   "name": "python",
   "nbconvert_exporter": "python",
   "pygments_lexer": "ipython3",
   "version": "3.12.5"
  }
 },
 "nbformat": 4,
 "nbformat_minor": 2
}
